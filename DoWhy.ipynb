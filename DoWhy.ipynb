{
 "cells": [
  {
   "cell_type": "markdown",
   "metadata": {},
   "source": [
    "# $\\text{DoWhy}$"
   ]
  },
  {
   "cell_type": "code",
   "execution_count": 3,
   "metadata": {},
   "outputs": [],
   "source": [
    "import numpy as np\n",
    "import pandas as pd\n",
    "\n",
    "import dowhy\n",
    "from dowhy import CausalModel\n",
    "import dowhy.datasets"
   ]
  },
  {
   "cell_type": "markdown",
   "metadata": {},
   "source": [
    "## $\\text{Getting Started}$"
   ]
  },
  {
   "cell_type": "code",
   "execution_count": 14,
   "metadata": {},
   "outputs": [
    {
     "data": {
      "text/html": [
       "<div>\n",
       "<style scoped>\n",
       "    .dataframe tbody tr th:only-of-type {\n",
       "        vertical-align: middle;\n",
       "    }\n",
       "\n",
       "    .dataframe tbody tr th {\n",
       "        vertical-align: top;\n",
       "    }\n",
       "\n",
       "    .dataframe thead th {\n",
       "        text-align: right;\n",
       "    }\n",
       "</style>\n",
       "<table border=\"1\" class=\"dataframe\">\n",
       "  <thead>\n",
       "    <tr style=\"text-align: right;\">\n",
       "      <th></th>\n",
       "      <th>X0</th>\n",
       "      <th>Z0</th>\n",
       "      <th>Z1</th>\n",
       "      <th>W0</th>\n",
       "      <th>W1</th>\n",
       "      <th>W2</th>\n",
       "      <th>W3</th>\n",
       "      <th>W4</th>\n",
       "      <th>v0</th>\n",
       "      <th>y</th>\n",
       "    </tr>\n",
       "  </thead>\n",
       "  <tbody>\n",
       "    <tr>\n",
       "      <th>0</th>\n",
       "      <td>-0.057894</td>\n",
       "      <td>1.0</td>\n",
       "      <td>0.490845</td>\n",
       "      <td>-0.795283</td>\n",
       "      <td>0.655019</td>\n",
       "      <td>0.130652</td>\n",
       "      <td>0.486094</td>\n",
       "      <td>2</td>\n",
       "      <td>True</td>\n",
       "      <td>14.947092</td>\n",
       "    </tr>\n",
       "    <tr>\n",
       "      <th>1</th>\n",
       "      <td>0.867360</td>\n",
       "      <td>1.0</td>\n",
       "      <td>0.724302</td>\n",
       "      <td>1.308285</td>\n",
       "      <td>-1.105060</td>\n",
       "      <td>-0.147760</td>\n",
       "      <td>-0.877139</td>\n",
       "      <td>1</td>\n",
       "      <td>True</td>\n",
       "      <td>12.067803</td>\n",
       "    </tr>\n",
       "    <tr>\n",
       "      <th>2</th>\n",
       "      <td>0.596841</td>\n",
       "      <td>1.0</td>\n",
       "      <td>0.523463</td>\n",
       "      <td>0.110889</td>\n",
       "      <td>1.595940</td>\n",
       "      <td>0.070054</td>\n",
       "      <td>-0.679999</td>\n",
       "      <td>3</td>\n",
       "      <td>True</td>\n",
       "      <td>22.262474</td>\n",
       "    </tr>\n",
       "    <tr>\n",
       "      <th>3</th>\n",
       "      <td>1.706458</td>\n",
       "      <td>1.0</td>\n",
       "      <td>0.477797</td>\n",
       "      <td>-0.481661</td>\n",
       "      <td>0.357520</td>\n",
       "      <td>-0.257190</td>\n",
       "      <td>1.142493</td>\n",
       "      <td>2</td>\n",
       "      <td>True</td>\n",
       "      <td>18.991358</td>\n",
       "    </tr>\n",
       "    <tr>\n",
       "      <th>4</th>\n",
       "      <td>-0.709575</td>\n",
       "      <td>1.0</td>\n",
       "      <td>0.430195</td>\n",
       "      <td>0.473982</td>\n",
       "      <td>0.830187</td>\n",
       "      <td>0.497630</td>\n",
       "      <td>2.094308</td>\n",
       "      <td>3</td>\n",
       "      <td>True</td>\n",
       "      <td>19.207009</td>\n",
       "    </tr>\n",
       "    <tr>\n",
       "      <th>...</th>\n",
       "      <td>...</td>\n",
       "      <td>...</td>\n",
       "      <td>...</td>\n",
       "      <td>...</td>\n",
       "      <td>...</td>\n",
       "      <td>...</td>\n",
       "      <td>...</td>\n",
       "      <td>...</td>\n",
       "      <td>...</td>\n",
       "      <td>...</td>\n",
       "    </tr>\n",
       "    <tr>\n",
       "      <th>9995</th>\n",
       "      <td>1.235469</td>\n",
       "      <td>1.0</td>\n",
       "      <td>0.043224</td>\n",
       "      <td>0.171696</td>\n",
       "      <td>0.408000</td>\n",
       "      <td>2.089069</td>\n",
       "      <td>0.992548</td>\n",
       "      <td>0</td>\n",
       "      <td>True</td>\n",
       "      <td>21.349396</td>\n",
       "    </tr>\n",
       "    <tr>\n",
       "      <th>9996</th>\n",
       "      <td>1.579802</td>\n",
       "      <td>1.0</td>\n",
       "      <td>0.466661</td>\n",
       "      <td>-1.054698</td>\n",
       "      <td>0.703912</td>\n",
       "      <td>2.541972</td>\n",
       "      <td>1.406460</td>\n",
       "      <td>0</td>\n",
       "      <td>True</td>\n",
       "      <td>22.853810</td>\n",
       "    </tr>\n",
       "    <tr>\n",
       "      <th>9997</th>\n",
       "      <td>1.865714</td>\n",
       "      <td>1.0</td>\n",
       "      <td>0.636700</td>\n",
       "      <td>0.748653</td>\n",
       "      <td>1.561610</td>\n",
       "      <td>-1.635754</td>\n",
       "      <td>-2.635736</td>\n",
       "      <td>2</td>\n",
       "      <td>True</td>\n",
       "      <td>19.381889</td>\n",
       "    </tr>\n",
       "    <tr>\n",
       "      <th>9998</th>\n",
       "      <td>-0.590788</td>\n",
       "      <td>1.0</td>\n",
       "      <td>0.611387</td>\n",
       "      <td>3.075219</td>\n",
       "      <td>-0.692854</td>\n",
       "      <td>2.692014</td>\n",
       "      <td>-0.486487</td>\n",
       "      <td>0</td>\n",
       "      <td>True</td>\n",
       "      <td>17.817361</td>\n",
       "    </tr>\n",
       "    <tr>\n",
       "      <th>9999</th>\n",
       "      <td>1.045422</td>\n",
       "      <td>1.0</td>\n",
       "      <td>0.219271</td>\n",
       "      <td>-0.019029</td>\n",
       "      <td>-0.360688</td>\n",
       "      <td>-0.242247</td>\n",
       "      <td>-0.392191</td>\n",
       "      <td>0</td>\n",
       "      <td>True</td>\n",
       "      <td>11.055274</td>\n",
       "    </tr>\n",
       "  </tbody>\n",
       "</table>\n",
       "<p>10000 rows × 10 columns</p>\n",
       "</div>"
      ],
      "text/plain": [
       "            X0   Z0        Z1        W0        W1        W2        W3 W4  \\\n",
       "0    -0.057894  1.0  0.490845 -0.795283  0.655019  0.130652  0.486094  2   \n",
       "1     0.867360  1.0  0.724302  1.308285 -1.105060 -0.147760 -0.877139  1   \n",
       "2     0.596841  1.0  0.523463  0.110889  1.595940  0.070054 -0.679999  3   \n",
       "3     1.706458  1.0  0.477797 -0.481661  0.357520 -0.257190  1.142493  2   \n",
       "4    -0.709575  1.0  0.430195  0.473982  0.830187  0.497630  2.094308  3   \n",
       "...        ...  ...       ...       ...       ...       ...       ... ..   \n",
       "9995  1.235469  1.0  0.043224  0.171696  0.408000  2.089069  0.992548  0   \n",
       "9996  1.579802  1.0  0.466661 -1.054698  0.703912  2.541972  1.406460  0   \n",
       "9997  1.865714  1.0  0.636700  0.748653  1.561610 -1.635754 -2.635736  2   \n",
       "9998 -0.590788  1.0  0.611387  3.075219 -0.692854  2.692014 -0.486487  0   \n",
       "9999  1.045422  1.0  0.219271 -0.019029 -0.360688 -0.242247 -0.392191  0   \n",
       "\n",
       "        v0          y  \n",
       "0     True  14.947092  \n",
       "1     True  12.067803  \n",
       "2     True  22.262474  \n",
       "3     True  18.991358  \n",
       "4     True  19.207009  \n",
       "...    ...        ...  \n",
       "9995  True  21.349396  \n",
       "9996  True  22.853810  \n",
       "9997  True  19.381889  \n",
       "9998  True  17.817361  \n",
       "9999  True  11.055274  \n",
       "\n",
       "[10000 rows x 10 columns]"
      ]
     },
     "execution_count": 14,
     "metadata": {},
     "output_type": "execute_result"
    }
   ],
   "source": [
    "data = dowhy.datasets.linear_dataset(\n",
    "    beta=10,\n",
    "    num_common_causes=5, # W\n",
    "    num_instruments = 2, # Z\n",
    "    num_effect_modifiers=1, # X\n",
    "    num_samples=10000,\n",
    "    treatment_is_binary=True, # V\n",
    "    num_discrete_common_causes=1) # C\n",
    "\n",
    "\n",
    "df = data[\"df\"]\n",
    "df"
   ]
  },
  {
   "cell_type": "code",
   "execution_count": 5,
   "metadata": {},
   "outputs": [
    {
     "name": "stderr",
     "output_type": "stream",
     "text": [
      "INFO:dowhy.causal_model:Model to find the causal effect of treatment ['v0'] on outcome ['y']\n"
     ]
    }
   ],
   "source": [
    "model=CausalModel(\n",
    "    data = df,\n",
    "    treatment=data[\"treatment_name\"],\n",
    "    outcome=data[\"outcome_name\"],\n",
    "    graph=data[\"gml_graph\"])"
   ]
  },
  {
   "cell_type": "code",
   "execution_count": 20,
   "metadata": {},
   "outputs": [
    {
     "name": "stderr",
     "output_type": "stream",
     "text": [
      "WARNING:dowhy.causal_graph:Warning: Pygraphviz cannot be loaded. Check that graphviz and pygraphviz are installed.\n",
      "INFO:dowhy.causal_graph:Using Matplotlib for plotting\n"
     ]
    },
    {
     "data": {
      "image/png": "[encoded data removed]",
      "text/plain": [
       "<Figure size 432x288 with 1 Axes>"
      ]
     },
     "metadata": {},
     "output_type": "display_data"
    }
   ],
   "source": [
    "model.view_model()\n",
    "#from IPython.display import Image, display\n",
    "#display(Image(filename=\"causal_model.png\"))"
   ]
  },
  {
   "cell_type": "code",
   "execution_count": 23,
   "metadata": {},
   "outputs": [
    {
     "name": "stderr",
     "output_type": "stream",
     "text": [
      "INFO:dowhy.causal_identifier:Common causes of treatment and outcome:['W2', 'W3', 'W4', 'W0', 'W1', 'Unobserved Confounders']\n",
      "WARNING:dowhy.causal_identifier:If this is observed data (not from a randomized experiment), there might always be missing confounders. Causal effect cannot be identified perfectly.\n",
      "INFO:dowhy.causal_identifier:Continuing by ignoring these unobserved confounders because proceed_when_unidentifiable flag is True.\n",
      "INFO:dowhy.causal_identifier:Instrumental variables for treatment and outcome:['Z1', 'Z0']\n"
     ]
    },
    {
     "name": "stdout",
     "output_type": "stream",
     "text": [
      "Estimand type: nonparametric-ate\n",
      "### Estimand : 1\n",
      "Estimand name: backdoor\n",
      "Estimand expression:\n",
      "  d                                 \n",
      "─────(Expectation(y|W2,W3,W4,W0,W1))\n",
      "d[v₀]                               \n",
      "Estimand assumption 1, Unconfoundedness: If U→{v0} and U→y then P(y|v0,W2,W3,W4,W0,W1,U) = P(y|v0,W2,W3,W4,W0,W1)\n",
      "### Estimand : 2\n",
      "Estimand name: iv\n",
      "Estimand expression:\n",
      "Expectation(Derivative(y, [Z1, Z0])*Derivative([v0], [Z1, Z0])**(-1))\n",
      "Estimand assumption 1, As-if-random: If U→→y then ¬(U →→{Z1,Z0})\n",
      "Estimand assumption 2, Exclusion: If we remove {Z1,Z0}→{v0}, then ¬({Z1,Z0}→y)\n",
      "\n"
     ]
    }
   ],
   "source": [
    "identified_estimand = model.identify_effect(proceed_when_unidentifiable=True)\n",
    "print(identified_estimand)"
   ]
  },
  {
   "cell_type": "code",
   "execution_count": 24,
   "metadata": {},
   "outputs": [
    {
     "name": "stderr",
     "output_type": "stream",
     "text": [
      "INFO:dowhy.causal_estimator:INFO: Using Propensity Score Stratification Estimator\n",
      "INFO:dowhy.causal_estimator:b: y~v0+W2+W3+W4+W0+W1\n",
      "C:\\Users\\Taha\\Anaconda3\\Anaconda4\\lib\\site-packages\\sklearn\\utils\\validation.py:72: DataConversionWarning: A column-vector y was passed when a 1d array was expected. Please change the shape of y to (n_samples, ), for example using ravel().\n",
      "  return f(**kwargs)\n",
      "INFO:numexpr.utils:NumExpr defaulting to 4 threads.\n"
     ]
    },
    {
     "name": "stdout",
     "output_type": "stream",
     "text": [
      "*** Causal Estimate ***\n",
      "\n",
      "## Identified estimand\n",
      "Estimand type: nonparametric-ate\n",
      "### Estimand : 1\n",
      "Estimand name: backdoor\n",
      "Estimand expression:\n",
      "  d                                 \n",
      "─────(Expectation(y|W2,W3,W4,W0,W1))\n",
      "d[v₀]                               \n",
      "Estimand assumption 1, Unconfoundedness: If U→{v0} and U→y then P(y|v0,W2,W3,W4,W0,W1,U) = P(y|v0,W2,W3,W4,W0,W1)\n",
      "### Estimand : 2\n",
      "Estimand name: iv\n",
      "Estimand expression:\n",
      "Expectation(Derivative(y, [Z1, Z0])*Derivative([v0], [Z1, Z0])**(-1))\n",
      "Estimand assumption 1, As-if-random: If U→→y then ¬(U →→{Z1,Z0})\n",
      "Estimand assumption 2, Exclusion: If we remove {Z1,Z0}→{v0}, then ¬({Z1,Z0}→y)\n",
      "\n",
      "## Realized estimand\n",
      "b: y~v0+W2+W3+W4+W0+W1\n",
      "Target units: ate\n",
      "\n",
      "## Estimate\n",
      "Mean value: 9.974596952956894\n",
      "\n",
      "Causal Estimate is 9.974596952956894\n"
     ]
    }
   ],
   "source": [
    "causal_estimate = model.estimate_effect(\n",
    "    identified_estimand, \n",
    "    method_name=\"backdoor.propensity_score_stratification\")\n",
    "\n",
    "print(causal_estimate)\n",
    "print(\"Causal Estimate is \" + str(causal_estimate.value))"
   ]
  },
  {
   "cell_type": "code",
   "execution_count": 26,
   "metadata": {},
   "outputs": [
    {
     "name": "stderr",
     "output_type": "stream",
     "text": [
      "INFO:dowhy.causal_estimator:INFO: Using Propensity Score Stratification Estimator\n",
      "INFO:dowhy.causal_estimator:b: y~v0+W2+W3+W4+W0+W1\n",
      "C:\\Users\\Taha\\Anaconda3\\Anaconda4\\lib\\site-packages\\sklearn\\utils\\validation.py:72: DataConversionWarning: A column-vector y was passed when a 1d array was expected. Please change the shape of y to (n_samples, ), for example using ravel().\n",
      "  return f(**kwargs)\n"
     ]
    },
    {
     "name": "stdout",
     "output_type": "stream",
     "text": [
      "*** Causal Estimate ***\n",
      "\n",
      "## Identified estimand\n",
      "Estimand type: nonparametric-ate\n",
      "### Estimand : 1\n",
      "Estimand name: backdoor\n",
      "Estimand expression:\n",
      "  d                                 \n",
      "─────(Expectation(y|W2,W3,W4,W0,W1))\n",
      "d[v₀]                               \n",
      "Estimand assumption 1, Unconfoundedness: If U→{v0} and U→y then P(y|v0,W2,W3,W4,W0,W1,U) = P(y|v0,W2,W3,W4,W0,W1)\n",
      "### Estimand : 2\n",
      "Estimand name: iv\n",
      "Estimand expression:\n",
      "Expectation(Derivative(y, [Z1, Z0])*Derivative([v0], [Z1, Z0])**(-1))\n",
      "Estimand assumption 1, As-if-random: If U→→y then ¬(U →→{Z1,Z0})\n",
      "Estimand assumption 2, Exclusion: If we remove {Z1,Z0}→{v0}, then ¬({Z1,Z0}→y)\n",
      "\n",
      "## Realized estimand\n",
      "b: y~v0+W2+W3+W4+W0+W1\n",
      "Target units: atc\n",
      "\n",
      "## Estimate\n",
      "Mean value: 10.060982132412262\n",
      "\n",
      "Causal Estimate is 10.060982132412262\n"
     ]
    }
   ],
   "source": [
    "causal_estimate_att = model.estimate_effect(\n",
    "    identified_estimand,\n",
    "    method_name=\"backdoor.propensity_score_stratification\",\n",
    "    target_units = \"atc\")\n",
    "\n",
    "print(causal_estimate_att)\n",
    "print(\"Causal Estimate is \" + str(causal_estimate_att.value))"
   ]
  },
  {
   "cell_type": "markdown",
   "metadata": {},
   "source": [
    "## $\\text{Do-sampler Introduction}$"
   ]
  },
  {
   "cell_type": "code",
   "execution_count": 29,
   "metadata": {},
   "outputs": [],
   "source": [
    "import dowhy.api\n",
    "\n",
    "z = np.random.uniform(size=5000)\n",
    "d = np.random.binomial(1., p=1./(1. + np.exp(-5. * z)))\n",
    "y = 2. * z + d + 0.1 * np.random.normal(size=5000)\n",
    "\n",
    "df = pd.DataFrame({'Z': z, 'D': d, 'Y': y})"
   ]
  },
  {
   "cell_type": "code",
   "execution_count": 31,
   "metadata": {},
   "outputs": [
    {
     "data": {
      "image/png": "[encoded data removed]",
      "text/latex": [
       "$\\displaystyle 1.6116628874122954$"
      ],
      "text/plain": [
       "1.6116628874122954"
      ]
     },
     "execution_count": 31,
     "metadata": {},
     "output_type": "execute_result"
    }
   ],
   "source": [
    "(df[df.D == 1].mean() - df[df.D == 0].mean())['Y']"
   ]
  },
  {
   "cell_type": "code",
   "execution_count": 32,
   "metadata": {},
   "outputs": [
    {
     "name": "stderr",
     "output_type": "stream",
     "text": [
      "WARNING:dowhy.causal_model:Causal Graph not provided. DoWhy will construct a graph based on data inputs.\n",
      "INFO:dowhy.causal_graph:If this is observed data (not from a randomized experiment), there might always be missing confounders. Adding a node named \"Unobserved Confounders\" to reflect this.\n",
      "INFO:dowhy.causal_model:Model to find the causal effect of treatment ['D'] on outcome ['Y']\n"
     ]
    }
   ],
   "source": [
    "causes = ['D']\n",
    "outcomes = ['Y']\n",
    "common_causes = ['Z']\n",
    "\n",
    "model = CausalModel(df, causes, outcomes, common_causes=common_causes)"
   ]
  },
  {
   "cell_type": "code",
   "execution_count": 34,
   "metadata": {},
   "outputs": [
    {
     "name": "stderr",
     "output_type": "stream",
     "text": [
      "INFO:dowhy.causal_identifier:Common causes of treatment and outcome:['Z', 'U']\n",
      "WARNING:dowhy.causal_identifier:If this is observed data (not from a randomized experiment), there might always be missing confounders. Causal effect cannot be identified perfectly.\n",
      "INFO:dowhy.causal_identifier:Continuing by ignoring these unobserved confounders because proceed_when_unidentifiable flag is True.\n",
      "INFO:dowhy.causal_identifier:Instrumental variables for treatment and outcome:[]\n"
     ]
    }
   ],
   "source": [
    "identification = model.identify_effect(proceed_when_unidentifiable=True)"
   ]
  },
  {
   "cell_type": "code",
   "execution_count": 37,
   "metadata": {},
   "outputs": [
    {
     "name": "stderr",
     "output_type": "stream",
     "text": [
      "INFO:dowhy.causal_identifier:Common causes of treatment and outcome:['Z', 'U']\n",
      "WARNING:dowhy.causal_identifier:If this is observed data (not from a randomized experiment), there might always be missing confounders. Causal effect cannot be identified perfectly.\n"
     ]
    },
    {
     "name": "stdout",
     "output_type": "stream",
     "text": [
      "WARN: Do you want to continue by ignoring any unobserved confounders? (use proceed_when_unidentifiable=True to disable this prompt) [y/n] y\n"
     ]
    },
    {
     "name": "stderr",
     "output_type": "stream",
     "text": [
      "INFO:dowhy.causal_identifier:Instrumental variables for treatment and outcome:[]\n",
      "INFO:dowhy.do_sampler:Using WeightingSampler for do sampling.\n",
      "INFO:dowhy.do_sampler:Caution: do samplers assume iid data.\n"
     ]
    }
   ],
   "source": [
    "from dowhy.do_samplers.weighting_sampler import WeightingSampler\n",
    "\n",
    "sampler = WeightingSampler(df, causal_model=model, keep_original_treatment=True,\n",
    "                           variable_types={'D': 'b', 'Z': 'c', 'Y': 'c'})"
   ]
  },
  {
   "cell_type": "code",
   "execution_count": 38,
   "metadata": {},
   "outputs": [
    {
     "data": {
      "image/png": "[encoded data removed]",
      "text/latex": [
       "$\\displaystyle 0.9841976271848094$"
      ],
      "text/plain": [
       "0.9841976271848094"
      ]
     },
     "execution_count": 38,
     "metadata": {},
     "output_type": "execute_result"
    }
   ],
   "source": [
    "interventional_df = sampler.do_sample(None)\n",
    "(interventional_df[interventional_df.D == 1].mean() - interventional_df[interventional_df.D == 0].mean())['Y']"
   ]
  },
  {
   "cell_type": "markdown",
   "metadata": {},
   "source": [
    "## $\\text{Confounding Example: Finding causal effects from observed data}$"
   ]
  },
  {
   "cell_type": "code",
   "execution_count": 39,
   "metadata": {},
   "outputs": [
    {
     "name": "stdout",
     "output_type": "stream",
     "text": [
      "   Treatment   Outcome        w0\n",
      "0   4.113433  7.786004 -2.035039\n",
      "1   4.823352  9.236335 -1.319645\n",
      "2   2.612494  5.554578 -3.176110\n",
      "3   2.514493  5.758213 -3.184160\n",
      "4   1.894435  4.077183 -3.997425\n"
     ]
    }
   ],
   "source": [
    "rvar = 1 if np.random.uniform() >0.5 else 0\n",
    "data_dict = dowhy.datasets.xy_dataset(10000, effect=rvar, sd_error=0.2)\n",
    "df = data_dict['df']\n",
    "print(df[[\"Treatment\", \"Outcome\", \"w0\"]].head())"
   ]
  },
  {
   "cell_type": "code",
   "execution_count": 41,
   "metadata": {},
   "outputs": [
    {
     "name": "stderr",
     "output_type": "stream",
     "text": [
      "WARNING:matplotlib.legend:No handles with labels found to put in legend.\n"
     ]
    },
    {
     "data": {
      "image/png": "[encoded data removed]",
      "text/plain": [
       "<Figure size 576x432 with 1 Axes>"
      ]
     },
     "metadata": {
      "needs_background": "light"
     },
     "output_type": "display_data"
    }
   ],
   "source": [
    "import dowhy.datasets, dowhy.plotter\n",
    "dowhy.plotter.plot_treatment_outcome(df[data_dict[\"treatment_name\"]], \n",
    "                                     df[data_dict[\"outcome_name\"]],\n",
    "                                     df[data_dict[\"time_val\"]])"
   ]
  },
  {
   "cell_type": "code",
   "execution_count": 43,
   "metadata": {},
   "outputs": [
    {
     "name": "stderr",
     "output_type": "stream",
     "text": [
      "WARNING:dowhy.causal_model:Causal Graph not provided. DoWhy will construct a graph based on data inputs.\n",
      "INFO:dowhy.causal_graph:If this is observed data (not from a randomized experiment), there might always be missing confounders. Adding a node named \"Unobserved Confounders\" to reflect this.\n",
      "INFO:dowhy.causal_model:Model to find the causal effect of treatment ['Treatment'] on outcome ['Outcome']\n",
      "WARNING:dowhy.causal_graph:Warning: Pygraphviz cannot be loaded. Check that graphviz and pygraphviz are installed.\n",
      "INFO:dowhy.causal_graph:Using Matplotlib for plotting\n"
     ]
    },
    {
     "data": {
      "image/png": "[encoded data removed]",
      "text/plain": [
       "<Figure size 432x288 with 1 Axes>"
      ]
     },
     "metadata": {},
     "output_type": "display_data"
    }
   ],
   "source": [
    "model= CausalModel(\n",
    "        data=df,\n",
    "        treatment=data_dict[\"treatment_name\"],\n",
    "        outcome=data_dict[\"outcome_name\"],\n",
    "        common_causes=data_dict[\"common_causes_names\"],\n",
    "        instruments=data_dict[\"instrument_names\"])\n",
    "model.view_model(layout=\"dot\")"
   ]
  },
  {
   "cell_type": "code",
   "execution_count": 44,
   "metadata": {},
   "outputs": [
    {
     "name": "stderr",
     "output_type": "stream",
     "text": [
      "INFO:dowhy.causal_identifier:Common causes of treatment and outcome:['w0', 'U']\n",
      "WARNING:dowhy.causal_identifier:If this is observed data (not from a randomized experiment), there might always be missing confounders. Causal effect cannot be identified perfectly.\n"
     ]
    },
    {
     "name": "stdout",
     "output_type": "stream",
     "text": [
      "WARN: Do you want to continue by ignoring any unobserved confounders? (use proceed_when_unidentifiable=True to disable this prompt) [y/n] y\n"
     ]
    },
    {
     "name": "stderr",
     "output_type": "stream",
     "text": [
      "INFO:dowhy.causal_identifier:Instrumental variables for treatment and outcome:[]\n"
     ]
    },
    {
     "name": "stdout",
     "output_type": "stream",
     "text": [
      "Estimand type: nonparametric-ate\n",
      "### Estimand : 1\n",
      "Estimand name: backdoor\n",
      "Estimand expression:\n",
      "     d                               \n",
      "────────────(Expectation(Outcome|w0))\n",
      "d[Treatment]                         \n",
      "Estimand assumption 1, Unconfoundedness: If U→{Treatment} and U→Outcome then P(Outcome|Treatment,w0,U) = P(Outcome|Treatment,w0)\n",
      "### Estimand : 2\n",
      "Estimand name: iv\n",
      "No such variable found!\n",
      "\n"
     ]
    }
   ],
   "source": [
    "identified_estimand = model.identify_effect()\n",
    "print(identified_estimand)"
   ]
  },
  {
   "cell_type": "markdown",
   "metadata": {},
   "source": [
    "## $\\text{Pre-Class Work}$\n",
    "### $\\text{Part I}$"
   ]
  },
  {
   "cell_type": "code",
   "execution_count": 48,
   "metadata": {},
   "outputs": [],
   "source": [
    "#link = 'https://raw.githubusercontent.com/IBM-HRL-MLHLS/IBM-Causal-Inference-Benchmarking-Framework/'\n",
    "#IMB_benchmark = pd.read_csv(link+'master/data/LBIDD/x.csv')"
   ]
  },
  {
   "cell_type": "code",
   "execution_count": null,
   "metadata": {},
   "outputs": [],
   "source": [
    "IBM_benchmark.head()"
   ]
  },
  {
   "cell_type": "code",
   "execution_count": null,
   "metadata": {},
   "outputs": [],
   "source": [
    "model=CausalModel(\n",
    "    data = IBM_benchmark,\n",
    "    treatment=data[\"treatment_name\"],\n",
    "    outcome=data[\"outcome_name\"],\n",
    "    graph=data[\"gml_graph\"])"
   ]
  },
  {
   "cell_type": "code",
   "execution_count": null,
   "metadata": {},
   "outputs": [],
   "source": [
    "model.view_model()"
   ]
  },
  {
   "cell_type": "markdown",
   "metadata": {},
   "source": [
    "### $\\text{Part II}$\n",
    "\n",
    "To test your DoWhy knowledge, make a fake dataset that follows Figure 3.12 from the textbook, and try to follow the tutorials to estimate the effect. Write down any complications you had along the way.\n",
    "\n",
    "![graph.png](https://raw.githubusercontent.com/Tahahaha7/Causal_Inference_Tutorial/master/graph.png)"
   ]
  },
  {
   "cell_type": "code",
   "execution_count": 68,
   "metadata": {},
   "outputs": [
    {
     "data": {
      "text/html": [
       "<div>\n",
       "<style scoped>\n",
       "    .dataframe tbody tr th:only-of-type {\n",
       "        vertical-align: middle;\n",
       "    }\n",
       "\n",
       "    .dataframe tbody tr th {\n",
       "        vertical-align: top;\n",
       "    }\n",
       "\n",
       "    .dataframe thead th {\n",
       "        text-align: right;\n",
       "    }\n",
       "</style>\n",
       "<table border=\"1\" class=\"dataframe\">\n",
       "  <thead>\n",
       "    <tr style=\"text-align: right;\">\n",
       "      <th></th>\n",
       "      <th>income</th>\n",
       "      <th>gender</th>\n",
       "      <th>qualifications</th>\n",
       "      <th>hiring</th>\n",
       "    </tr>\n",
       "  </thead>\n",
       "  <tbody>\n",
       "    <tr>\n",
       "      <th>0</th>\n",
       "      <td>-1.822610</td>\n",
       "      <td>2</td>\n",
       "      <td>-2.813148</td>\n",
       "      <td>False</td>\n",
       "    </tr>\n",
       "    <tr>\n",
       "      <th>1</th>\n",
       "      <td>-0.717591</td>\n",
       "      <td>2</td>\n",
       "      <td>0.544796</td>\n",
       "      <td>True</td>\n",
       "    </tr>\n",
       "    <tr>\n",
       "      <th>2</th>\n",
       "      <td>-0.715600</td>\n",
       "      <td>3</td>\n",
       "      <td>2.476015</td>\n",
       "      <td>True</td>\n",
       "    </tr>\n",
       "    <tr>\n",
       "      <th>3</th>\n",
       "      <td>-0.669814</td>\n",
       "      <td>0</td>\n",
       "      <td>-2.392665</td>\n",
       "      <td>False</td>\n",
       "    </tr>\n",
       "    <tr>\n",
       "      <th>4</th>\n",
       "      <td>0.857444</td>\n",
       "      <td>0</td>\n",
       "      <td>2.344705</td>\n",
       "      <td>True</td>\n",
       "    </tr>\n",
       "  </tbody>\n",
       "</table>\n",
       "</div>"
      ],
      "text/plain": [
       "     income gender  qualifications  hiring\n",
       "0 -1.822610      2       -2.813148   False\n",
       "1 -0.717591      2        0.544796    True\n",
       "2 -0.715600      3        2.476015    True\n",
       "3 -0.669814      0       -2.392665   False\n",
       "4  0.857444      0        2.344705    True"
      ]
     },
     "execution_count": 68,
     "metadata": {},
     "output_type": "execute_result"
    }
   ],
   "source": [
    "#Generate the dataset\n",
    "data = dowhy.datasets.linear_dataset(beta=10,\n",
    "        num_treatments=1,\n",
    "        num_common_causes=2,\n",
    "        num_samples=10000,\n",
    "        treatment_is_binary=False,\n",
    "        outcome_is_binary=True,\n",
    "        num_discrete_common_causes=1)\n",
    "\n",
    "df = data[\"df\"]\n",
    "df.columns = [\"income\", \"gender\", \"qualifications\", \"hiring\"]\n",
    "df.head()"
   ]
  },
  {
   "cell_type": "code",
   "execution_count": 69,
   "metadata": {},
   "outputs": [
    {
     "name": "stderr",
     "output_type": "stream",
     "text": [
      "WARNING:dowhy.causal_model:Causal Graph not provided. DoWhy will construct a graph based on data inputs.\n",
      "INFO:dowhy.causal_graph:If this is observed data (not from a randomized experiment), there might always be missing confounders. Adding a node named \"Unobserved Confounders\" to reflect this.\n",
      "INFO:dowhy.causal_model:Model to find the causal effect of treatment ['qualifications'] on outcome ['hiring']\n",
      "WARNING:dowhy.causal_graph:Warning: Pygraphviz cannot be loaded. Check that graphviz and pygraphviz are installed.\n",
      "INFO:dowhy.causal_graph:Using Matplotlib for plotting\n"
     ]
    },
    {
     "data": {
      "image/png": "[encoded data removed]",
      "text/plain": [
       "<Figure size 432x288 with 1 Axes>"
      ]
     },
     "metadata": {},
     "output_type": "display_data"
    }
   ],
   "source": [
    "#Define the model\n",
    "model= CausalModel(\n",
    "        data=df, \n",
    "        treatment=\"qualifications\",\n",
    "        outcome=\"hiring\",\n",
    "        common_causes=[\"income\", \"gender\"])\n",
    "\n",
    "model.view_model(layout=\"dot\")"
   ]
  },
  {
   "cell_type": "code",
   "execution_count": 61,
   "metadata": {},
   "outputs": [
    {
     "name": "stderr",
     "output_type": "stream",
     "text": [
      "INFO:dowhy.causal_identifier:Common causes of treatment and outcome:['income', 'gender', 'U']\n",
      "WARNING:dowhy.causal_identifier:If this is observed data (not from a randomized experiment), there might always be missing confounders. Causal effect cannot be identified perfectly.\n"
     ]
    },
    {
     "name": "stdout",
     "output_type": "stream",
     "text": [
      "WARN: Do you want to continue by ignoring any unobserved confounders? (use proceed_when_unidentifiable=True to disable this prompt) [y/n] y\n"
     ]
    },
    {
     "name": "stderr",
     "output_type": "stream",
     "text": [
      "INFO:dowhy.causal_identifier:Instrumental variables for treatment and outcome:[]\n"
     ]
    },
    {
     "name": "stdout",
     "output_type": "stream",
     "text": [
      "Estimand type: nonparametric-ate\n",
      "### Estimand : 1\n",
      "Estimand name: backdoor\n",
      "Estimand expression:\n",
      "        d                                           \n",
      "─────────────────(Expectation(hiring|income,gender))\n",
      "d[qualifications]                                   \n",
      "Estimand assumption 1, Unconfoundedness: If U→{qualifications} and U→hiring then P(hiring|qualifications,income,gender,U) = P(hiring|qualifications,income,gender)\n",
      "### Estimand : 2\n",
      "Estimand name: iv\n",
      "No such variable found!\n",
      "\n"
     ]
    }
   ],
   "source": [
    "#Identify the effect\n",
    "identified_estimand = model.identify_effect()\n",
    "print(identified_estimand)"
   ]
  },
  {
   "cell_type": "code",
   "execution_count": 62,
   "metadata": {},
   "outputs": [
    {
     "name": "stderr",
     "output_type": "stream",
     "text": [
      "INFO:dowhy.causal_estimator:INFO: Using Linear Regression Estimator\n",
      "INFO:dowhy.causal_estimator:b: hiring~qualifications+income+gender\n"
     ]
    },
    {
     "name": "stdout",
     "output_type": "stream",
     "text": [
      "                            OLS Regression Results                            \n",
      "==============================================================================\n",
      "Dep. Variable:                 hiring   R-squared:                       0.625\n",
      "Model:                            OLS   Adj. R-squared:                  0.625\n",
      "Method:                 Least Squares   F-statistic:                     3330.\n",
      "Date:                Wed, 14 Oct 2020   Prob (F-statistic):               0.00\n",
      "Time:                        16:10:12   Log-Likelihood:                -1604.4\n",
      "No. Observations:               10000   AIC:                             3221.\n",
      "Df Residuals:                    9994   BIC:                             3264.\n",
      "Df Model:                           5                                         \n",
      "Covariance Type:            nonrobust                                         \n",
      "==============================================================================\n",
      "                 coef    std err          t      P>|t|      [0.025      0.975]\n",
      "------------------------------------------------------------------------------\n",
      "const          0.4107      0.006     68.299      0.000       0.399       0.422\n",
      "x1             0.0542      0.003     18.998      0.000       0.049       0.060\n",
      "x2             0.0282      0.010      2.695      0.007       0.008       0.049\n",
      "x3             0.1489      0.014     10.897      0.000       0.122       0.176\n",
      "x4             0.2201      0.023      9.402      0.000       0.174       0.266\n",
      "x5             0.1032      0.034      3.059      0.002       0.037       0.169\n",
      "==============================================================================\n",
      "Omnibus:                     1196.772   Durbin-Watson:                   1.987\n",
      "Prob(Omnibus):                  0.000   Jarque-Bera (JB):              324.320\n",
      "Skew:                          -0.070   Prob(JB):                     3.76e-71\n",
      "Kurtosis:                       2.129   Cond. No.                         101.\n",
      "==============================================================================\n",
      "\n",
      "Warnings:\n",
      "[1] Standard Errors assume that the covariance matrix of the errors is correctly specified.\n",
      "*** Causal Estimate ***\n",
      "\n",
      "## Identified estimand\n",
      "Estimand type: nonparametric-ate\n",
      "### Estimand : 1\n",
      "Estimand name: backdoor\n",
      "Estimand expression:\n",
      "        d                                           \n",
      "─────────────────(Expectation(hiring|income,gender))\n",
      "d[qualifications]                                   \n",
      "Estimand assumption 1, Unconfoundedness: If U→{qualifications} and U→hiring then P(hiring|qualifications,income,gender,U) = P(hiring|qualifications,income,gender)\n",
      "### Estimand : 2\n",
      "Estimand name: iv\n",
      "No such variable found!\n",
      "\n",
      "## Realized estimand\n",
      "b: hiring~qualifications+income+gender\n",
      "Target units: ate\n",
      "\n",
      "## Estimate\n",
      "Mean value: 0.0542326906550461\n",
      "p-value: [4.34848525e-79]\n",
      "\n",
      "Causal Estimate is 0.0542326906550461\n"
     ]
    }
   ],
   "source": [
    "#Estimate the effect\n",
    "causal_estimate = model.estimate_effect(identified_estimand,\n",
    "        method_name=\"backdoor.linear_regression\",\n",
    "        test_significance=True)\n",
    "print(causal_estimate)\n",
    "print(\"Causal Estimate is \" + str(causal_estimate.value))"
   ]
  }
 ],
 "metadata": {
  "kernelspec": {
   "display_name": "Python 3",
   "language": "python",
   "name": "python3"
  },
  "language_info": {
   "codemirror_mode": {
    "name": "ipython",
    "version": 3
   },
   "file_extension": ".py",
   "mimetype": "text/x-python",
   "name": "python",
   "nbconvert_exporter": "python",
   "pygments_lexer": "ipython3",
   "version": "3.7.6"
  }
 },
 "nbformat": 4,
 "nbformat_minor": 4
}
